{
 "cells": [
  {
   "cell_type": "markdown",
   "id": "657364f9-49fc-43ca-a6ee-00496502a8a5",
   "metadata": {},
   "source": [
    "# Conversions\n"
   ]
  },
  {
   "cell_type": "markdown",
   "id": "c7bf9d1b-2c9a-4e3c-861c-9189b9fd811c",
   "metadata": {},
   "source": [
    "## To Bytes"
   ]
  },
  {
   "cell_type": "code",
   "execution_count": 3,
   "id": "cd7765d0-aed9-4e52-8a62-9802125404f8",
   "metadata": {
    "scrolled": true
   },
   "outputs": [
    {
     "name": "stdout",
     "output_type": "stream",
     "text": [
      "b'Hello'\n",
      "b'Hello'\n",
      "b'Hello'\n",
      "b'Hello'\n",
      "b'Hello'\n",
      "b'Hello'\n",
      "b'Hello'\n"
     ]
    }
   ],
   "source": [
    "import base64\n",
    "from Crypto.Util.number import bytes_to_long, long_to_bytes\n",
    "\n",
    "# String to Bytes\n",
    "string = 'Hello'\n",
    "bytes_data = string.encode()\n",
    "print(bytes_data)\n",
    "\n",
    "# Hex to Bytes\n",
    "hex_string = '48656c6c6f'\n",
    "bytes_data = bytes.fromhex(hex_string)\n",
    "print(bytes_data)\n",
    "\n",
    "# Binary String to Bytes\n",
    "binary_string = '0100100001100101011011000110110001101111'\n",
    "bytes_data = int(binary_string, 2).to_bytes((len(binary_string) + 7) // 8, 'big')\n",
    "print(bytes_data)\n",
    "\n",
    "# Integer to Bytes (standard)\n",
    "integer = 310939249775\n",
    "bytes_data = integer.to_bytes((integer.bit_length() + 7) // 8, 'big')\n",
    "print(bytes_data)\n",
    "\n",
    "# Integer to Bytes (crypto - handles leading zeros better)\n",
    "integer = 310939249775\n",
    "bytes_data = long_to_bytes(integer)\n",
    "print(bytes_data)\n",
    "\n",
    "# Byte List to Bytes\n",
    "byte_list = [72, 101, 108, 108, 111]\n",
    "bytes_data = bytes(byte_list)\n",
    "print(bytes_data)\n",
    "\n",
    "# Base64 to Bytes\n",
    "b64_string = 'SGVsbG8='\n",
    "bytes_data = base64.b64decode(b64_string)\n",
    "print(bytes_data)\n",
    "\n",
    "# File → Bytes\n",
    "# with open('file.bin', 'rb') as f:\n",
    "#     bytes_data = f.read()"
   ]
  },
  {
   "cell_type": "markdown",
   "id": "e1ed465a-999b-451b-8c33-f4104a1d030f",
   "metadata": {},
   "source": [
    "## From Bytes\n"
   ]
  },
  {
   "cell_type": "code",
   "execution_count": 4,
   "id": "cbd5c92c-5e40-4e58-8133-2763806ef3d6",
   "metadata": {},
   "outputs": [
    {
     "name": "stdout",
     "output_type": "stream",
     "text": [
      "Hello\n",
      "48656c6c6f\n",
      "0100100001100101011011000110110001101111\n",
      "310939249775\n",
      "310939249775\n",
      "[72, 101, 108, 108, 111]\n",
      "b'SGVsbG8='\n"
     ]
    }
   ],
   "source": [
    "import base64\n",
    "from Crypto.Util.number import bytes_to_long, long_to_bytes\n",
    "\n",
    "# Bytes to String\n",
    "bytes_data = b'Hello'\n",
    "string = bytes_data.decode()\n",
    "print(string)\n",
    "\n",
    "# Bytes to Hex\n",
    "bytes_data = b'Hello'\n",
    "hex_string = bytes_data.hex()\n",
    "print(hex_string)\n",
    "\n",
    "# Bytes to Binary String\n",
    "bytes_data = b'Hello'\n",
    "binary_string = bin(int.from_bytes(bytes_data, 'big'))[2:].zfill(len(bytes_data) * 8)\n",
    "print(binary_string)\n",
    "\n",
    "# Bytes to Integer (standard)\n",
    "bytes_data = b'Hello'\n",
    "integer = int.from_bytes(bytes_data, 'big')\n",
    "print(integer)\n",
    "\n",
    "# Bytes to Integer (crypto)\n",
    "bytes_data = b'Hello'\n",
    "integer = bytes_to_long(bytes_data)\n",
    "print(integer)\n",
    "\n",
    "# Bytes to Byte List\n",
    "bytes_data = b'Hello'\n",
    "byte_list = list(bytes_data)\n",
    "print(byte_list)\n",
    "\n",
    "# Bytes to Base64\n",
    "bytes_data = b'Hello'\n",
    "b64_string = base64.b64encode(bytes_data)\n",
    "print(b64_string)\n",
    "\n",
    "# Bytes to File\n",
    "# bytes_data = b'Hello'\n",
    "# with open('output.bin', 'wb') as f:\n",
    "#     f.write(bytes_data)"
   ]
  },
  {
   "cell_type": "markdown",
   "id": "020f8b84-5274-421c-9a8e-50f83c458327",
   "metadata": {},
   "source": [
    "## To Base64\n",
    "- `base64.b64encode()`\n",
    "- Requires bytes as input"
   ]
  },
  {
   "cell_type": "code",
   "execution_count": 7,
   "id": "ab79c8e2-99ba-45de-9f8a-e446854e8ddc",
   "metadata": {},
   "outputs": [
    {
     "name": "stdout",
     "output_type": "stream",
     "text": [
      "b'SGVsbG8='\n",
      "b'SGVsbG8='\n",
      "b'SGVsbG8='\n",
      "b'SGVsbG8='\n",
      "b'SGVsbG8='\n"
     ]
    }
   ],
   "source": [
    "import base64\n",
    "\n",
    "# String to Base64\n",
    "string = 'Hello'\n",
    "b64 = base64.b64encode(string.encode())\n",
    "print(b64) \n",
    "\n",
    "# Hex to Base64\n",
    "hex_string = '48656c6c6f'\n",
    "bytes_data = bytes.fromhex(hex_string)\n",
    "b64 = base64.b64encode(bytes_data)\n",
    "print(b64)  \n",
    "\n",
    "# Binary String to Base64\n",
    "binary_string = '0100100001100101011011000110110001101111'\n",
    "bytes_data = int(binary_string, 2).to_bytes((len(binary_string) + 7) // 8, 'big')\n",
    "b64 = base64.b64encode(bytes_data)\n",
    "print(b64)  \n",
    "\n",
    "# Integer to Base64\n",
    "integer = 310939249775\n",
    "bytes_data = integer.to_bytes((integer.bit_length() + 7) // 8, 'big')\n",
    "b64 = base64.b64encode(bytes_data)\n",
    "print(b64) \n",
    "\n",
    "# Byte List to Base64\n",
    "byte_list = [72, 101, 108, 108, 111]\n",
    "bytes_data = bytes(byte_list)\n",
    "b64 = base64.b64encode(bytes_data)\n",
    "print(b64) \n",
    "\n",
    "# File to Base64\n",
    "# with open('image.png', 'rb') as f:\n",
    "#     bytes_data = f.read()\n",
    "#     b64 = base64.b64encode(bytes_data)"
   ]
  },
  {
   "cell_type": "markdown",
   "id": "fe019594-6c97-482f-966f-abc87f8fc4eb",
   "metadata": {},
   "source": [
    "## From Base64"
   ]
  },
  {
   "cell_type": "code",
   "execution_count": 12,
   "id": "1dd6cbdb-f092-4e51-93c5-dc1763ca5ae9",
   "metadata": {},
   "outputs": [
    {
     "name": "stdout",
     "output_type": "stream",
     "text": [
      "Hello\n",
      "48656c6c6f\n",
      "0100100001100101011011000110110001101111\n",
      "310939249775\n",
      "[72, 101, 108, 108, 111]\n"
     ]
    }
   ],
   "source": [
    "import base64\n",
    "\n",
    "# Base64 to String\n",
    "b64 = b'SGVsbG8='\n",
    "bytes_data = base64.b64decode(b64)\n",
    "string = bytes_data.decode()\n",
    "print(string)\n",
    "\n",
    "# Base64 to Hex\n",
    "b64 = b'SGVsbG8='\n",
    "bytes_data = base64.b64decode(b64)\n",
    "hex_string = bytes_data.hex()\n",
    "print(hex_string)\n",
    "\n",
    "# Base64 to Binary String\n",
    "b64 = b'SGVsbG8='\n",
    "bytes_data = base64.b64decode(b64)\n",
    "binary_string = bin(int.from_bytes(bytes_data, 'big'))[2:].zfill(len(bytes_data) * 8)\n",
    "print(binary_string)\n",
    "\n",
    "# Base64 to Integer\n",
    "b64 = b'SGVsbG8='\n",
    "bytes_data = base64.b64decode(b64)\n",
    "integer = int.from_bytes(bytes_data, 'big')\n",
    "print(integer)\n",
    "\n",
    "# Base64 to Byte List\n",
    "b64 = b'SGVsbG8='\n",
    "bytes_data = base64.b64decode(b64)\n",
    "byte_list = list(bytes_data)\n",
    "print(byte_list)\n",
    "\n",
    "# Base64 to File\n",
    "# bytes_data = base64.b64decode(b64)\n",
    "# with open('output.png', 'wb') as f:\n",
    "#     f.write(bytes_data)"
   ]
  },
  {
   "cell_type": "markdown",
   "id": "0192e12b-4bb6-46f8-91a1-c40fa171d0e8",
   "metadata": {},
   "source": [
    "## To Binary"
   ]
  },
  {
   "cell_type": "code",
   "execution_count": 13,
   "id": "89dd5d25-f4e6-4ec0-a879-5e363fe2e6c2",
   "metadata": {},
   "outputs": [
    {
     "name": "stdout",
     "output_type": "stream",
     "text": [
      "0100100001100101011011000110110001101111\n",
      "0100100001100101011011000110110001101111\n",
      "0100100001100101011011000110110001101111\n",
      "0100100001100101011011000110110001101111\n",
      "0100100001100101011011000110110001101111\n"
     ]
    }
   ],
   "source": [
    "# String to Binary\n",
    "string = 'Hello'\n",
    "bytes_data = string.encode()\n",
    "binary_string = bin(int.from_bytes(bytes_data, 'big'))[2:].zfill(len(bytes_data) * 8)\n",
    "print(binary_string)\n",
    "\n",
    "# Hex to Binary\n",
    "hex_string = '48656c6c6f'\n",
    "bytes_data = bytes.fromhex(hex_string)\n",
    "binary_string = bin(int.from_bytes(bytes_data, 'big'))[2:].zfill(len(bytes_data) * 8)\n",
    "print(binary_string)\n",
    "\n",
    "# Integer to Binary\n",
    "integer = 310939249775\n",
    "bytes_data = integer.to_bytes((integer.bit_length() + 7) // 8, 'big')\n",
    "binary_string = bin(int.from_bytes(bytes_data, 'big'))[2:].zfill(len(bytes_data) * 8)\n",
    "print(binary_string)\n",
    "\n",
    "# Byte List to Binary\n",
    "byte_list = [72, 101, 108, 108, 111]\n",
    "bytes_data = bytes(byte_list)\n",
    "binary_string = bin(int.from_bytes(bytes_data, 'big'))[2:].zfill(len(bytes_data) * 8)\n",
    "print(binary_string)\n",
    "\n",
    "# Bytes to Binary\n",
    "bytes_data = b'Hello'\n",
    "binary_string = bin(int.from_bytes(bytes_data, 'big'))[2:].zfill(len(bytes_data) * 8)\n",
    "print(binary_string)"
   ]
  },
  {
   "cell_type": "markdown",
   "id": "bbf2f8b3-f64e-4243-b0c5-d4bdcb4cbe1d",
   "metadata": {},
   "source": [
    "## From Binary"
   ]
  },
  {
   "cell_type": "code",
   "execution_count": 14,
   "id": "0b856496-e22f-43c7-8996-fceafec5b00a",
   "metadata": {},
   "outputs": [
    {
     "name": "stdout",
     "output_type": "stream",
     "text": [
      "Hello\n",
      "48656c6c6f\n",
      "310939249775\n",
      "[72, 101, 108, 108, 111]\n",
      "b'Hello'\n"
     ]
    }
   ],
   "source": [
    "# Binary to String\n",
    "binary_string = '0100100001100101011011000110110001101111'\n",
    "bytes_data = int(binary_string, 2).to_bytes((len(binary_string) + 7) // 8, 'big')\n",
    "string = bytes_data.decode()\n",
    "print(string)\n",
    "\n",
    "# Binary to Hex\n",
    "binary_string = '0100100001100101011011000110110001101111'\n",
    "bytes_data = int(binary_string, 2).to_bytes((len(binary_string) + 7) // 8, 'big')\n",
    "hex_string = bytes_data.hex()\n",
    "print(hex_string)\n",
    "\n",
    "# Binary to Integer\n",
    "binary_string = '0100100001100101011011000110110001101111'\n",
    "integer = int(binary_string, 2)\n",
    "print(integer)\n",
    "\n",
    "# Binary to Byte List\n",
    "binary_string = '0100100001100101011011000110110001101111'\n",
    "bytes_data = int(binary_string, 2).to_bytes((len(binary_string) + 7) // 8, 'big')\n",
    "byte_list = list(bytes_data)\n",
    "print(byte_list)\n",
    "\n",
    "# Binary to Bytes\n",
    "binary_string = '0100100001100101011011000110110001101111'\n",
    "bytes_data = int(binary_string, 2).to_bytes((len(binary_string) + 7) // 8, 'big')\n",
    "print(bytes_data)"
   ]
  },
  {
   "cell_type": "markdown",
   "id": "90ecf369-f3da-4d0a-8c1d-8f79a7a13b42",
   "metadata": {},
   "source": [
    "# XOR\n",
    "## ord() + chr()\n",
    "- Inverse formulas to each other:\n",
    "    - `ord()` takes a character and gives you its number (ASCII/Unicode value)\n",
    "    - `chr()` takes a number and gives you its character\n",
    "\n",
    "In order to XOR, you need the number that ord() gives you. \n",
    "\n",
    "BUT both ord() + chr() only works on 1 single character/integer, so you need a for loop to work through an entire string/number:"
   ]
  },
  {
   "cell_type": "code",
   "execution_count": 53,
   "id": "39754f03-442d-4653-b9cf-a3c194804f47",
   "metadata": {},
   "outputs": [
    {
     "name": "stdout",
     "output_type": "stream",
     "text": [
      "ord():\n",
      "\n",
      "72\n",
      "104\n",
      "101\n",
      "108\n",
      "108\n",
      "111\n",
      "111\n",
      "111\n",
      "72 104 101 108 108 111 111 111 \n",
      "\n",
      "chr():\n",
      "\n",
      "H\n",
      "h\n",
      "e\n",
      "l\n",
      "l\n",
      "o\n",
      "o\n",
      "o\n",
      "H h e l l o o o \n",
      "\n",
      "Iidmmnnn\n"
     ]
    }
   ],
   "source": [
    "string = 'Hhellooo'\n",
    "\n",
    "# ord()\n",
    "print(\"ord():\\n\")\n",
    "for i in string:\n",
    "    print(ord(i))\n",
    "\n",
    "# In a single line:\n",
    "for i in string:\n",
    "    print(ord(i), end=' ')\n",
    "\n",
    "\n",
    "# chr()\n",
    "print(\"\\n\\nchr():\\n\")\n",
    "numbers = [72, 104, 101, 108, 108, 111, 111, 111]\n",
    "for i in numbers:\n",
    "    print(chr(i))\n",
    "\n",
    "# In a single line:\n",
    "for i in numbers:\n",
    "    print(chr(i), end=' ')\n",
    "\n",
    "\n",
    "# If I wanted to XOR a STRING with a INTEGER key, I need to ord() loop:\n",
    "string = 'Hhellooo'\n",
    "key = 1\n",
    "result = \"\"\n",
    "\n",
    "for i in string:\n",
    "    xor_value = ord(i) ^ key\n",
    "    result += chr(xor_value)\n",
    "\n",
    "\n",
    "print('\\n\\n' + result)\n",
    "\n",
    "# If both data types are INTEGERS, no conversion necessary for ^"
   ]
  },
  {
   "cell_type": "code",
   "execution_count": null,
   "id": "6f5b501e-7164-4ba5-87c1-937a09309a1c",
   "metadata": {},
   "outputs": [],
   "source": []
  },
  {
   "cell_type": "code",
   "execution_count": null,
   "id": "27c3764b-d7e0-439f-89f4-523d5c80088c",
   "metadata": {},
   "outputs": [],
   "source": []
  }
 ],
 "metadata": {
  "kernelspec": {
   "display_name": "Python 3 (ipykernel)",
   "language": "python",
   "name": "python3"
  },
  "language_info": {
   "codemirror_mode": {
    "name": "ipython",
    "version": 3
   },
   "file_extension": ".py",
   "mimetype": "text/x-python",
   "name": "python",
   "nbconvert_exporter": "python",
   "pygments_lexer": "ipython3",
   "version": "3.13.7"
  }
 },
 "nbformat": 4,
 "nbformat_minor": 5
}
