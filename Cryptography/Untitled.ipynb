{
 "cells": [
  {
   "cell_type": "markdown",
   "id": "4642b22a-b971-4289-abc1-e21f92ea697e",
   "metadata": {},
   "source": [
    "# Cryptography Playground\n",
    "## Binary Conversion"
   ]
  },
  {
   "cell_type": "code",
   "execution_count": 1,
   "id": "3c5d6ae5-8faf-423d-87e8-45a31024c246",
   "metadata": {},
   "outputs": [
    {
     "name": "stdout",
     "output_type": "stream",
     "text": [
      "0b101\n",
      "101\n",
      "101\n",
      "00000101\n"
     ]
    }
   ],
   "source": [
    "# Using bin()\n",
    "num = 5\n",
    "print(bin(num))           # '0b101' (0b means binary)\n",
    "print(bin(num)[2:])       # '101' (remove 0b prefix)\n",
    "\n",
    "# With formatting\n",
    "print(f\"{num:b}\")         # '101'\n",
    "print(f\"{num:08b}\")       # '00000101' (8 bits, padded with zeros)"
   ]
  },
  {
   "cell_type": "code",
   "execution_count": 2,
   "id": "4baaaa35-fc49-400d-93cb-fc37f1f2f946",
   "metadata": {},
   "outputs": [
    {
     "name": "stdout",
     "output_type": "stream",
     "text": [
      "Letter = A\n",
      "A to number conversion = 65\n",
      "Get binary from number = 0b1000001\n",
      "Same binary but different = 01000001\n",
      "\n",
      "############################################################\n",
      "\n",
      "A = 01000001\n",
      "a = 01100001\n",
      "1 = 00110001\n",
      "\n",
      "############################################################\n",
      "\n",
      "String 1 = 00110001\n",
      "Integer 1 = 00000001\n",
      "ord('1') result = 49\n"
     ]
    }
   ],
   "source": [
    "# Single character\n",
    "letter = 'A'\n",
    "print(f\"Letter = {letter}\")\n",
    "print(f\"{letter} to number conversion = {ord(letter)}\") # You can only XOR the number (the numeric value) that ord() gives you, not the character itself.\n",
    "print(f\"Get binary from number = {bin(ord(letter))}\") # This is giving you the binary of the resulting number from ord()\n",
    "print(f\"Same binary but different = {ord(letter):08b}\") # This is same as above but :08b is asking for a specific format\n",
    "\n",
    "print(f\"\\n{'###' * 20}\\n\") #################\n",
    "\n",
    "# Whole string, the \"1\" works because ord() is called but does not represent the binary for the integer 1\n",
    "text = \"Aa1\"\n",
    "for char in text:\n",
    "    print(f\"{char} = {ord(char):08b}\")\n",
    "\n",
    "print(f\"\\n{'###' * 20}\\n\") #################\n",
    "\n",
    "# STRING AND INTEGER BINARIES ARE 2 DIFFERENT THINGS\n",
    "print(f'String 1 = {ord('1'):08b}') # ord() converts the '1' character to an integer - but not the 1 integer.\n",
    "print(f'Integer 1 = {1:08b}')\n",
    "print(f\"ord('1') result = {ord('1')}\")  # 49 (code point of character '1')\n"
   ]
  },
  {
   "cell_type": "code",
   "execution_count": 3,
   "id": "ecf84bdb-fd13-42bb-a4d1-e01972071716",
   "metadata": {},
   "outputs": [
    {
     "name": "stdout",
     "output_type": "stream",
     "text": [
      "text1 = 01001000 01000101 01001100 01001100 01001111\n",
      "text1 = 01101000 01100101 01101100 01101100 01101111\n"
     ]
    }
   ],
   "source": [
    "text1 = \"HELLO\"\n",
    "binary1 = ' '.join(f\"{ord(char):08b}\" for char in text1)\n",
    "print(f\"text1 = {binary1}\")\n",
    "\n",
    "text2 = \"hello\"\n",
    "binary2 = ' '.join(f\"{ord(char):08b}\" for char in text2)\n",
    "print(f\"text1 = {binary2}\")\n"
   ]
  },
  {
   "cell_type": "code",
   "execution_count": 4,
   "id": "8b4b3057-5aa7-41c5-a723-bab3a45d7318",
   "metadata": {},
   "outputs": [
    {
     "name": "stdout",
     "output_type": "stream",
     "text": [
      "00000001\n",
      "00000001\n",
      "00110001\n",
      "1\n",
      "49\n",
      "00000001\n",
      "00110001\n",
      "00110001\n"
     ]
    }
   ],
   "source": [
    "# WORKS BECAUSE INTERGER\n",
    "print(f\"{1:08b}\")\n",
    "\n",
    "# OR\n",
    "ABC = 1\n",
    "print(f\"{ABC:08b}\")\n",
    "\n",
    "# OR IF YOU CALL ord()\n",
    "print(f\"{ord('1'):08b}\")\n",
    "# BUT the '1' character (as a string) is different to the integer 1\n",
    "\n",
    "print(1)           # 1 (integer)\n",
    "print(ord('1'))    # 49 (code point of character '1')\n",
    "\n",
    "print(f\"{1:08b}\")        # 00000001 (binary of 1)\n",
    "print(f\"{49:08b}\")       # 00110001 (binary of 49)\n",
    "print(f\"{ord('1'):08b}\") # 00110001 (same as above!)"
   ]
  },
  {
   "cell_type": "code",
   "execution_count": 5,
   "id": "e1a18f97-bb78-4c06-a5da-760b37ffaa27",
   "metadata": {},
   "outputs": [],
   "source": [
    "# DOESN'T WORK BECAUSE STRING NOT CALLED WITH ord()\n",
    "# print(f\"{'1':08b}\")\n",
    "\n",
    "# SAME HERE, NO ord() ON STRING\n",
    "# ABC = '1'\n",
    "# print(f\"{ABC:08b}\")"
   ]
  },
  {
   "cell_type": "markdown",
   "id": "92bc5acf-40a6-41af-a668-aef5c43a330e",
   "metadata": {},
   "source": [
    "### Binary Conversion Summary\n",
    "- `print(f\"{integer:08b}\")`\n",
    "- Can only convert integers to binary so use ord() on characters/strings to convert them to their integer equivalent. But running ord() on '2' does not convert the integer 2 to binary. It converts the character '2' to binary. \n",
    "- So be cautious of the datatype.. '5' the string, and it's ord() is not representative of the integer 5. The character '5' will have a different binary to the integer 5. So make sure you're working on the right datatype, and have used ord() appropriately.\n",
    "- The catch is that ord() only works on single characters not on strings so you have to use a for loop on the string. (Seen above)\n",
    "- If you can't convert characters to binary than you absolutely can't XOR characters directly to use `^` which is XOR in python, you need to run ord() on characters or be sure that you're working with integers already."
   ]
  },
  {
   "cell_type": "markdown",
   "id": "1e85e1ed-62a5-4b55-a6a9-eff1aa93b684",
   "metadata": {},
   "source": [
    "## XORing\n",
    "So once you've made everything an integer, so that you can make it into a binary, then you can start XORing things together with `^`. Although, what's presented to you is the symbol for the integer, in memory it's already binary so you're not actually converting it to binary or making it into a binary, it's already in binary form, just presented to you as a int. "
   ]
  },
  {
   "cell_type": "code",
   "execution_count": 6,
   "id": "3c2bf1f9-acc4-49e7-baff-1fb9243fa855",
   "metadata": {},
   "outputs": [
    {
     "name": "stdout",
     "output_type": "stream",
     "text": [
      "As integers: 5 ^ 3 = 6\n",
      "\n",
      "As binary: 00000101 ^ 00000011 = 00000110\n",
      "\n",
      "5 as a binary = 00000101\n",
      "3 as a binary = 00000011\n",
      "6 as a binary = 00000110\n"
     ]
    }
   ],
   "source": [
    "# Direct XOR with integers as integers\n",
    "a = 5\n",
    "b = 3\n",
    "result = a ^ b\n",
    "\n",
    "print(f\"As integers: {a} ^ {b} = {result}\")\n",
    "\n",
    "print(\"\")\n",
    "\n",
    "print (f\"As binary: {a:08b} ^ {b:08b} = {result:08b}\") # What XOR cares about\n",
    "\n",
    "print(\"\")\n",
    "\n",
    "print(f\"5 as a binary = {5:08b}\")\n",
    "print(f\"3 as a binary = {3:08b}\")\n",
    "print(f\"6 as a binary = {6:08b}\")\n",
    "\n",
    "\n",
    "\n",
    "\n"
   ]
  },
  {
   "cell_type": "markdown",
   "id": "918b692b-20b8-4cd9-be49-1a6f71a47371",
   "metadata": {},
   "source": [
    "Strictly speaking when we 5 ^ 3, Python isn't converting either integer to binary to then XOR them. They're already stored in binary in the computer's memory.\n",
    "\n",
    "What we write (decimal for humans):\n",
    "- `5 ^ 3`\n",
    "\n",
    "What the computer sees (binary in hardware):\n",
    "- `101 ^ 011 = 110`\n",
    "\n",
    "What result gets displayed back to you (decimal):\n",
    "- `6` but it's really `00000110`\n",
    "\n",
    "Behind the scenes:\n",
    "- `5` is stored as `101` in memory\n",
    "- `3` is stored as `011` in memory  \n",
    "- The `^` operator XORs them **bit by bit** directly\n",
    "\n",
    "\n",
    "When you see 5, that's just Python's way of displaying the binary value 101 in a format humans prefer (decimal)."
   ]
  },
  {
   "cell_type": "code",
   "execution_count": 8,
   "id": "0a5dd651-ebc7-4d51-8864-32669562a588",
   "metadata": {},
   "outputs": [
    {
     "name": "stdout",
     "output_type": "stream",
     "text": [
      "0\n",
      "1\n",
      "1\n",
      "0\n"
     ]
    }
   ],
   "source": [
    "result = 0 ^ 0\n",
    "print(result)\n",
    "\n",
    "result = 0 ^ 1\n",
    "print(result)\n",
    "\n",
    "result = 1 ^ 0\n",
    "print(result)\n",
    "\n",
    "result = 1 ^ 1\n",
    "print(result)\n"
   ]
  },
  {
   "cell_type": "markdown",
   "id": "9766fa7a-1d2f-45b6-b6b1-05e5ec455aec",
   "metadata": {},
   "source": [
    "FAMILIAR?\n",
    "\n",
    "| A | B | A ^ B |\n",
    "|---|---|-------|\n",
    "| 0 | 0 |   0   |\n",
    "| 0 | 1 |   1   |\n",
    "| 1 | 0 |   1   |\n",
    "| 1 | 1 |   0   |\n",
    "\n",
    "Where A is one int compared to the equivalently indexed int in B"
   ]
  },
  {
   "cell_type": "code",
   "execution_count": null,
   "id": "c7735449-0379-48da-824f-5ada6972384d",
   "metadata": {},
   "outputs": [],
   "source": []
  }
 ],
 "metadata": {
  "kernelspec": {
   "display_name": "Python 3 (ipykernel)",
   "language": "python",
   "name": "python3"
  },
  "language_info": {
   "codemirror_mode": {
    "name": "ipython",
    "version": 3
   },
   "file_extension": ".py",
   "mimetype": "text/x-python",
   "name": "python",
   "nbconvert_exporter": "python",
   "pygments_lexer": "ipython3",
   "version": "3.13.7"
  }
 },
 "nbformat": 4,
 "nbformat_minor": 5
}
