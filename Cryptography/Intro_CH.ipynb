{
 "cells": [
  {
   "cell_type": "markdown",
   "id": "0abe59ec-1125-4f0e-9e28-91b09b32af75",
   "metadata": {},
   "source": [
    "# ASCII\n",
    "ASCII is a 7-bit encoding standard which allows the representation of text using the integers 0-127.\n",
    "\n",
    "Using the below integer array, convert the numbers to their corresponding ASCII characters to obtain a flag."
   ]
  },
  {
   "cell_type": "code",
   "execution_count": 1,
   "id": "675b12fb-a8fa-4634-81df-b13a6ef5cd9b",
   "metadata": {},
   "outputs": [
    {
     "name": "stdout",
     "output_type": "stream",
     "text": [
      "c\n",
      "r\n",
      "y\n",
      "p\n",
      "t\n",
      "o\n",
      "{\n",
      "A\n",
      "S\n",
      "C\n",
      "I\n",
      "I\n",
      "_\n",
      "p\n",
      "r\n",
      "1\n",
      "n\n",
      "t\n",
      "4\n",
      "b\n",
      "l\n",
      "3\n",
      "}\n"
     ]
    }
   ],
   "source": [
    "array = [99, 114, 121, 112, 116, 111, 123, 65, 83, 67, 73, 73, 95, 112, 114, 49, 110, 116, 52, 98, 108, 51, 125]\n",
    "for i in array:\n",
    "    print(chr(i))"
   ]
  },
  {
   "cell_type": "code",
   "execution_count": 2,
   "id": "490c10ac-b869-4095-9b3b-f2e4f54a92c5",
   "metadata": {},
   "outputs": [
    {
     "name": "stdout",
     "output_type": "stream",
     "text": [
      "crypto{ASCII_pr1nt4bl3}\n"
     ]
    }
   ],
   "source": [
    "array = [99, 114, 121, 112, 116, 111, 123, 65, 83, 67, 73, 73, 95, 112, 114, 49, 110, 116, 52, 98, 108, 51, 125]\n",
    "result = ''.join(chr(i) for i in array)\n",
    "print(result)"
   ]
  },
  {
   "cell_type": "code",
   "execution_count": 3,
   "id": "052880ef-b99d-4c64-8f4c-357c19b3ee3a",
   "metadata": {},
   "outputs": [
    {
     "name": "stdout",
     "output_type": "stream",
     "text": [
      "crypto{ASCII_pr1nt4bl3}\n"
     ]
    }
   ],
   "source": [
    "array = [99, 114, 121, 112, 116, 111, 123, 65, 83, 67, 73, 73, 95, 112, 114, 49, 110, 116, 52, 98, 108, 51, 125]\n",
    "print(''.join(chr(i) for i in array))"
   ]
  },
  {
   "cell_type": "markdown",
   "id": "43b08664-253b-4b66-a6e1-4fbd44b0ba44",
   "metadata": {},
   "source": [
    "ord() and chr() are inverse functions:\n",
    "- chr() - converts a number to a character\n",
    "    - `chr(65)   # Returns 'A'`\n",
    "    - `chr(97)   # Returns 'a'`\n",
    "    - `chr(33)   # Returns '!'`\n",
    "- ord() - - converts a character to a number\n",
    "    - `ord('A')   # Returns 65`\n",
    "    - `ord('a')   # Returns 97`\n",
    "    - `ord('!')   # Returns 33`"
   ]
  },
  {
   "cell_type": "code",
   "execution_count": 4,
   "id": "e5fe5cae-881d-431f-a407-691a974d9982",
   "metadata": {},
   "outputs": [
    {
     "ename": "SyntaxError",
     "evalue": "unterminated string literal (detected at line 2) (1860014456.py, line 2)",
     "output_type": "error",
     "traceback": [
      "  \u001b[36mCell\u001b[39m\u001b[36m \u001b[39m\u001b[32mIn[4]\u001b[39m\u001b[32m, line 2\u001b[39m\n\u001b[31m    \u001b[39m\u001b[31mWhen we encrypt something the resulting ciphertext commonly has bytes which are not printable ASCII characters. If we want to share our encrypted data, it's common to encode it into something more user-friendly and portable across different systems.\u001b[39m\n                                                                                                                                                              ^\n\u001b[31mSyntaxError\u001b[39m\u001b[31m:\u001b[39m unterminated string literal (detected at line 2)\n"
     ]
    }
   ],
   "source": [
    "# Hex\n",
    "When we encrypt something the resulting ciphertext commonly has bytes which are not printable ASCII characters. If we want to share our encrypted data, it's common to encode it into something more user-friendly and portable across different systems.\n",
    "\n",
    "Hexadecimal can be used in such a way to represent ASCII strings. First each letter is converted to an ordinal number according to the ASCII table (as in the previous challenge). Then the decimal numbers are converted to base-16 numbers, otherwise known as hexadecimal. The numbers can be combined together, into one long hex string.\n",
    "\n",
    "\n",
    "bytes.fromhex() - hex string to bytes\n",
    "- `bytes.fromhex('41')        # b'A'  (0x41 = 65 in decimal)`\n",
    "- `bytes.fromhex('63')        # b'c'  (0x63 = 99 in decimal)`\n",
    "\n",
    "bytes.fromhex() can handle multiple bytes at once\n",
    "- `bytes.fromhex('41424344')  # b'ABCD'`\n",
    "- `bytes.fromhex('63727970746f')  # b'crypto'`"
   ]
  },
  {
   "cell_type": "markdown",
   "id": "7ec2d246-157c-4bee-8d93-34d8a7974c7f",
   "metadata": {},
   "source": [
    "# Base64\n",
    "Another common encoding scheme is Base64, which allows us to represent binary data as an ASCII string using an alphabet of 64 characters. One character of a Base64 string encodes 6 binary digits (bits), and so 4 characters of Base64 encode three 8-bit bytes.\n",
    "\n",
    "Base64 is most commonly used online, so binary data such as images can be easily included into HTML or CSS files.\n",
    "\n",
    "Take the below hex string, decode it into bytes and then encode it into Base64.\n"
   ]
  },
  {
   "cell_type": "code",
   "execution_count": null,
   "id": "5b510c58-1ec9-48ed-9e7c-8e528b16f4ee",
   "metadata": {},
   "outputs": [],
   "source": [
    "## Hexadecimal to Base64 conversion.\n",
    "import base64\n",
    "string = '72bca9b68fc16ac7beeb8f849dca1d8a783e8acf9679bf9269f7bf' # HEX STRING\n",
    "string_bytes = bytes.fromhex(string) # TO RAW BYTES\n",
    "plaintext = base64.b64encode(string_bytes) # TO BASE64 STRING\n",
    "print(plaintext)\n",
    "\n",
    "# Yes this is correct, "
   ]
  },
  {
   "cell_type": "markdown",
   "id": "feaf1267-8763-433b-a5c3-b36e19962531",
   "metadata": {},
   "source": [
    "# Bytes and Big Integers\n",
    "Cryptosystems like RSA works on numbers, but messages are made up of characters. How should we convert our messages into numbers so that mathematical operations can be applied?\n",
    "\n",
    "The most common way is to take the ordinal bytes of the message, convert them into hexadecimal, and concatenate. This can be interpreted as a base-16/hexadecimal number, and also represented in base-10/decimal.\n",
    "\n",
    "`11515195063862318899931685488813747395775516287289682636499965282714637259206269`"
   ]
  },
  {
   "cell_type": "code",
   "execution_count": null,
   "id": "ec165c75-ecf3-466d-aa37-505107e3f654",
   "metadata": {},
   "outputs": [],
   "source": [
    "from Crypto.Util.number import *\n",
    "\n",
    "cipher = 11515195063862318899931685488813747395775516287289682636499965282714637259206269\n",
    "bytes = long_to_bytes(cipher)\n",
    "print(bytes)"
   ]
  },
  {
   "cell_type": "code",
   "execution_count": null,
   "id": "007b0f7c-651c-40c3-8bad-972c3c4f4fa9",
   "metadata": {},
   "outputs": [],
   "source": [
    "string = \"label\"\n",
    "key = 13\n",
    "\n",
    "# XOR each character with 13\n",
    "result = \"\"\n",
    "for char in string:\n",
    "    xor_value = ord(char) ^ key\n",
    "    result += chr(xor_value)\n",
    "\n",
    "print(f\"crypto{{{result}}}\")"
   ]
  },
  {
   "cell_type": "code",
   "execution_count": null,
   "id": "eb85a831-ce24-4ccd-9ad1-e8ccaf0f3b64",
   "metadata": {},
   "outputs": [],
   "source": []
  },
  {
   "cell_type": "code",
   "execution_count": null,
   "id": "b02ba3eb-9c35-4fa1-999b-a43ba7a44117",
   "metadata": {},
   "outputs": [],
   "source": []
  }
 ],
 "metadata": {
  "kernelspec": {
   "display_name": "Python 3 (ipykernel)",
   "language": "python",
   "name": "python3"
  },
  "language_info": {
   "codemirror_mode": {
    "name": "ipython",
    "version": 3
   },
   "file_extension": ".py",
   "mimetype": "text/x-python",
   "name": "python",
   "nbconvert_exporter": "python",
   "pygments_lexer": "ipython3",
   "version": "3.13.7"
  }
 },
 "nbformat": 4,
 "nbformat_minor": 5
}
